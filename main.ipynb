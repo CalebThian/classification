{
 "cells": [
  {
   "cell_type": "code",
   "execution_count": 1,
   "id": "85afca80",
   "metadata": {},
   "outputs": [],
   "source": [
    "import pandas as pd"
   ]
  },
  {
   "cell_type": "code",
   "execution_count": null,
   "id": "acb4494c",
   "metadata": {},
   "outputs": [],
   "source": [
    "p_data1 = \"data/\""
   ]
  },
  {
   "cell_type": "code",
   "execution_count": null,
   "id": "72745e61",
   "metadata": {},
   "outputs": [],
   "source": [
    "df = pd.read_csv(r'Path where the CSV file is stored\\File name.csv')\n",
    "print (df)"
   ]
  }
 ],
 "metadata": {
  "kernelspec": {
   "display_name": "Python 3 (ipykernel)",
   "language": "python",
   "name": "python3"
  },
  "language_info": {
   "codemirror_mode": {
    "name": "ipython",
    "version": 3
   },
   "file_extension": ".py",
   "mimetype": "text/x-python",
   "name": "python",
   "nbconvert_exporter": "python",
   "pygments_lexer": "ipython3",
   "version": "3.8.5"
  }
 },
 "nbformat": 4,
 "nbformat_minor": 5
}
