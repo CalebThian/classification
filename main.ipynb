{
 "cells": [
  {
   "cell_type": "code",
   "execution_count": 5,
   "id": "584e15b1",
   "metadata": {},
   "outputs": [],
   "source": [
    "import pandas as pd"
   ]
  },
  {
   "cell_type": "code",
   "execution_count": 9,
   "id": "31508a03",
   "metadata": {},
   "outputs": [],
   "source": [
    "p_data = [\"data/crx.csv\",\"data/data.csv\"]\n",
    "label_col = [\"label\",\"Diagnosis\"]"
   ]
  },
  {
   "cell_type": "code",
   "execution_count": 12,
   "id": "84effe40",
   "metadata": {},
   "outputs": [
    {
     "name": "stdout",
     "output_type": "stream",
     "text": [
      "    att1   att2    att3 att4 att5 att6 att7  att8 att9 att10  att11 att12  \\\n",
      "0      b  30.83   0.000    u    g    w    v  1.25    t     t      1     f   \n",
      "1      a  58.67   4.460    u    g    q    h  3.04    t     t      6     f   \n",
      "2      a   24.5   0.500    u    g    q    h  1.50    t     f      0     f   \n",
      "3      b  27.83   1.540    u    g    w    v  3.75    t     t      5     t   \n",
      "4      b  20.17   5.625    u    g    w    v  1.71    t     f      0     f   \n",
      "..   ...    ...     ...  ...  ...  ...  ...   ...  ...   ...    ...   ...   \n",
      "685    b  21.08  10.085    y    p    e    h  1.25    f     f      0     f   \n",
      "686    a  22.67   0.750    u    g    c    v  2.00    f     t      2     t   \n",
      "687    a  25.25  13.500    y    p   ff   ff  2.00    f     t      1     t   \n",
      "688    b  17.92   0.205    u    g   aa    v  0.04    f     f      0     f   \n",
      "689    b     35   3.375    u    g    c    h  8.29    f     f      0     t   \n",
      "\n",
      "    att13 att14  att15 label  \n",
      "0       g   202      0     +  \n",
      "1       g    43    560     +  \n",
      "2       g   280    824     +  \n",
      "3       g   100      3     +  \n",
      "4       s   120      0     +  \n",
      "..    ...   ...    ...   ...  \n",
      "685     g   260      0     -  \n",
      "686     g   200    394     -  \n",
      "687     g   200      1     -  \n",
      "688     g   280    750     -  \n",
      "689     g     0      0     -  \n",
      "\n",
      "[690 rows x 16 columns]\n"
     ]
    }
   ],
   "source": [
    "df = pd.read_csv(p_data[0])\n",
    "print(df)"
   ]
  },
  {
   "cell_type": "code",
   "execution_count": null,
   "id": "ef7e2392",
   "metadata": {},
   "outputs": [],
   "source": [
    "# Check "
   ]
  },
  {
   "cell_type": "code",
   "execution_count": 13,
   "id": "d051b7a4",
   "metadata": {},
   "outputs": [],
   "source": [
    "# Label encoder - Process categorical features\n",
    "\n"
   ]
  },
  {
   "cell_type": "markdown",
   "id": "eeea6fbd",
   "metadata": {},
   "source": [
    "# Q2 Implement Linear Classifier from scratch"
   ]
  },
  {
   "cell_type": "code",
   "execution_count": null,
   "id": "74da77e2",
   "metadata": {},
   "outputs": [],
   "source": []
  }
 ],
 "metadata": {
  "kernelspec": {
   "display_name": "Python 3 (ipykernel)",
   "language": "python",
   "name": "python3"
  },
  "language_info": {
   "codemirror_mode": {
    "name": "ipython",
    "version": 3
   },
   "file_extension": ".py",
   "mimetype": "text/x-python",
   "name": "python",
   "nbconvert_exporter": "python",
   "pygments_lexer": "ipython3",
   "version": "3.8.5"
  }
 },
 "nbformat": 4,
 "nbformat_minor": 5
}
