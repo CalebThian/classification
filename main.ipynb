{
 "cells": [
  {
   "cell_type": "code",
   "execution_count": 1,
   "id": "825d8e79",
   "metadata": {},
   "outputs": [],
   "source": [
    "import pandas as pd\n",
    "import numpy as np\n",
    "import random"
   ]
  },
  {
   "cell_type": "code",
   "execution_count": 2,
   "id": "6ce8a834",
   "metadata": {},
   "outputs": [],
   "source": [
    "random.seed(54)"
   ]
  },
  {
   "cell_type": "code",
   "execution_count": 3,
   "id": "1e78cfe8",
   "metadata": {},
   "outputs": [],
   "source": [
    "p_data = [\"data/crx.csv\",\"data/data.csv\"]\n",
    "cTarget = [\"label\",\"Diagnosis\"]"
   ]
  },
  {
   "cell_type": "code",
   "execution_count": 4,
   "id": "d1ba7b77",
   "metadata": {},
   "outputs": [
    {
     "name": "stdout",
     "output_type": "stream",
     "text": [
      "[    att1   att2    att3 att4 att5 att6 att7  att8 att9 att10  att11 att12  \\\n",
      "0      b  30.83   0.000    u    g    w    v  1.25    t     t      1     f   \n",
      "1      a  58.67   4.460    u    g    q    h  3.04    t     t      6     f   \n",
      "2      a   24.5   0.500    u    g    q    h  1.50    t     f      0     f   \n",
      "3      b  27.83   1.540    u    g    w    v  3.75    t     t      5     t   \n",
      "4      b  20.17   5.625    u    g    w    v  1.71    t     f      0     f   \n",
      "..   ...    ...     ...  ...  ...  ...  ...   ...  ...   ...    ...   ...   \n",
      "685    b  21.08  10.085    y    p    e    h  1.25    f     f      0     f   \n",
      "686    a  22.67   0.750    u    g    c    v  2.00    f     t      2     t   \n",
      "687    a  25.25  13.500    y    p   ff   ff  2.00    f     t      1     t   \n",
      "688    b  17.92   0.205    u    g   aa    v  0.04    f     f      0     f   \n",
      "689    b     35   3.375    u    g    c    h  8.29    f     f      0     t   \n",
      "\n",
      "    att13 att14  att15 label  \n",
      "0       g   202      0     +  \n",
      "1       g    43    560     +  \n",
      "2       g   280    824     +  \n",
      "3       g   100      3     +  \n",
      "4       s   120      0     +  \n",
      "..    ...   ...    ...   ...  \n",
      "685     g   260      0     -  \n",
      "686     g   200    394     -  \n",
      "687     g   200      1     -  \n",
      "688     g   280    750     -  \n",
      "689     g     0      0     -  \n",
      "\n",
      "[690 rows x 16 columns],            ID Diagnosis      3      4       5       6        7        8  \\\n",
      "0      842302         M  17.99  10.38  122.80  1001.0  0.11840  0.27760   \n",
      "1      842517         M  20.57  17.77  132.90  1326.0  0.08474  0.07864   \n",
      "2    84300903         M  19.69  21.25  130.00  1203.0  0.10960  0.15990   \n",
      "3    84348301         M  11.42  20.38   77.58   386.1  0.14250  0.28390   \n",
      "4    84358402         M  20.29  14.34  135.10  1297.0  0.10030  0.13280   \n",
      "..        ...       ...    ...    ...     ...     ...      ...      ...   \n",
      "564    926424         M  21.56  22.39  142.00  1479.0  0.11100  0.11590   \n",
      "565    926682         M  20.13  28.25  131.20  1261.0  0.09780  0.10340   \n",
      "566    926954         M  16.60  28.08  108.30   858.1  0.08455  0.10230   \n",
      "567    927241         M  20.60  29.33  140.10  1265.0  0.11780  0.27700   \n",
      "568     92751         B   7.76  24.54   47.92   181.0  0.05263  0.04362   \n",
      "\n",
      "           9       10  ...      23     24      25      26       27       28  \\\n",
      "0    0.30010  0.14710  ...  25.380  17.33  184.60  2019.0  0.16220  0.66560   \n",
      "1    0.08690  0.07017  ...  24.990  23.41  158.80  1956.0  0.12380  0.18660   \n",
      "2    0.19740  0.12790  ...  23.570  25.53  152.50  1709.0  0.14440  0.42450   \n",
      "3    0.24140  0.10520  ...  14.910  26.50   98.87   567.7  0.20980  0.86630   \n",
      "4    0.19800  0.10430  ...  22.540  16.67  152.20  1575.0  0.13740  0.20500   \n",
      "..       ...      ...  ...     ...    ...     ...     ...      ...      ...   \n",
      "564  0.24390  0.13890  ...  25.450  26.40  166.10  2027.0  0.14100  0.21130   \n",
      "565  0.14400  0.09791  ...  23.690  38.25  155.00  1731.0  0.11660  0.19220   \n",
      "566  0.09251  0.05302  ...  18.980  34.12  126.70  1124.0  0.11390  0.30940   \n",
      "567  0.35140  0.15200  ...  25.740  39.42  184.60  1821.0  0.16500  0.86810   \n",
      "568  0.00000  0.00000  ...   9.456  30.37   59.16   268.6  0.08996  0.06444   \n",
      "\n",
      "         29      30      31  Unnamed: 31  \n",
      "0    0.7119  0.2654  0.4601      0.11890  \n",
      "1    0.2416  0.1860  0.2750      0.08902  \n",
      "2    0.4504  0.2430  0.3613      0.08758  \n",
      "3    0.6869  0.2575  0.6638      0.17300  \n",
      "4    0.4000  0.1625  0.2364      0.07678  \n",
      "..      ...     ...     ...          ...  \n",
      "564  0.4107  0.2216  0.2060      0.07115  \n",
      "565  0.3215  0.1628  0.2572      0.06637  \n",
      "566  0.3403  0.1418  0.2218      0.07820  \n",
      "567  0.9387  0.2650  0.4087      0.12400  \n",
      "568  0.0000  0.0000  0.2871      0.07039  \n",
      "\n",
      "[569 rows x 32 columns]]\n"
     ]
    }
   ],
   "source": [
    "df = []\n",
    "for data in p_data:\n",
    "    df.append(pd.read_csv(data))\n",
    "print(df)"
   ]
  },
  {
   "cell_type": "code",
   "execution_count": 5,
   "id": "2c7999ef",
   "metadata": {},
   "outputs": [],
   "source": [
    "# Move target column to back\n",
    "for i in range(len(df)):\n",
    "    col = df[i].pop(cTarget[i])\n",
    "    df[i].insert(df[i].shape[1], col.name, col)"
   ]
  },
  {
   "cell_type": "code",
   "execution_count": 6,
   "id": "7e7b48ca",
   "metadata": {},
   "outputs": [],
   "source": [
    "# Check Missing Value - Remove missing value\n",
    "## Missing value is represented as ? in both datasets\n",
    "for i in range(len(df)):\n",
    "    df[i]=df[i].replace('?',np.nan)\n",
    "    df[i] = df[i].dropna().reset_index()"
   ]
  },
  {
   "cell_type": "code",
   "execution_count": 7,
   "id": "4cbc6c34",
   "metadata": {},
   "outputs": [
    {
     "data": {
      "text/html": [
       "<div>\n",
       "<style scoped>\n",
       "    .dataframe tbody tr th:only-of-type {\n",
       "        vertical-align: middle;\n",
       "    }\n",
       "\n",
       "    .dataframe tbody tr th {\n",
       "        vertical-align: top;\n",
       "    }\n",
       "\n",
       "    .dataframe thead th {\n",
       "        text-align: right;\n",
       "    }\n",
       "</style>\n",
       "<table border=\"1\" class=\"dataframe\">\n",
       "  <thead>\n",
       "    <tr style=\"text-align: right;\">\n",
       "      <th></th>\n",
       "      <th>index</th>\n",
       "      <th>att1</th>\n",
       "      <th>att2</th>\n",
       "      <th>att3</th>\n",
       "      <th>att4</th>\n",
       "      <th>att5</th>\n",
       "      <th>att6</th>\n",
       "      <th>att7</th>\n",
       "      <th>att8</th>\n",
       "      <th>att9</th>\n",
       "      <th>att10</th>\n",
       "      <th>att11</th>\n",
       "      <th>att12</th>\n",
       "      <th>att13</th>\n",
       "      <th>att14</th>\n",
       "      <th>att15</th>\n",
       "      <th>label</th>\n",
       "    </tr>\n",
       "  </thead>\n",
       "  <tbody>\n",
       "  </tbody>\n",
       "</table>\n",
       "</div>"
      ],
      "text/plain": [
       "Empty DataFrame\n",
       "Columns: [index, att1, att2, att3, att4, att5, att6, att7, att8, att9, att10, att11, att12, att13, att14, att15, label]\n",
       "Index: []"
      ]
     },
     "execution_count": 7,
     "metadata": {},
     "output_type": "execute_result"
    }
   ],
   "source": [
    "df[0][df[0].isnull().any(axis=1)]"
   ]
  },
  {
   "cell_type": "code",
   "execution_count": 8,
   "id": "1d441045",
   "metadata": {},
   "outputs": [
    {
     "data": {
      "text/plain": [
       "array(['a', 'b'], dtype=object)"
      ]
     },
     "execution_count": 8,
     "metadata": {},
     "output_type": "execute_result"
    }
   ],
   "source": [
    "np.unique(df[0][\"att1\"])"
   ]
  },
  {
   "cell_type": "code",
   "execution_count": 9,
   "id": "26524d75",
   "metadata": {},
   "outputs": [],
   "source": [
    "# Remove unique column\n",
    "## Unique column is defined as those column dtypes != float64 but len(unique) = len(df)\n",
    "def removeUnique(df):\n",
    "    cRemove = []\n",
    "    for i in range(len(df.columns)):\n",
    "        if df[df.columns[i]].dtypes != \"float64\":\n",
    "            n = len(np.unique(df[df.columns[i]]))\n",
    "            if n==len(df):\n",
    "                cRemove.append(df.columns[i])\n",
    "    df.drop(cRemove, axis = 1, inplace = True)\n",
    "    return df"
   ]
  },
  {
   "cell_type": "code",
   "execution_count": 10,
   "id": "68822a37",
   "metadata": {},
   "outputs": [],
   "source": [
    "def labelEncoder(df):\n",
    "    # Select categorical features\n",
    "    # Method: unique value < #Row*30%  && dtypes != float64\n",
    "    for i in range(len(df.columns)):\n",
    "        if df[df.columns[i]].dtypes != \"float64\":\n",
    "            n = len(np.unique(df[df.columns[i]]))\n",
    "            if n<len(df)*0.3:\n",
    "                # Label Encoding\n",
    "                label_number = dict()\n",
    "                for k,j in enumerate(np.unique(df[df.columns[i]])):\n",
    "                    label_number[j] = k\n",
    "                for r in range(len(df)):\n",
    "                    df.loc[r,df.columns[i]] = label_number[df[df.columns[i]][r]]\n",
    "    return df"
   ]
  },
  {
   "cell_type": "code",
   "execution_count": 11,
   "id": "b514f445",
   "metadata": {},
   "outputs": [],
   "source": [
    "def castCol(df, dtype = \"float\"):\n",
    "    for i in range(len(df.columns)):\n",
    "        if df[df.columns[i]].dtypes != \"float64\":\n",
    "            print(df.columns[i])\n",
    "            df.loc[:,df.columns[i]] = df.loc[:,df.columns[i]].astype(dtype)\n",
    "    return df"
   ]
  },
  {
   "cell_type": "code",
   "execution_count": 12,
   "id": "ab3986f4",
   "metadata": {},
   "outputs": [
    {
     "data": {
      "text/plain": [
       "False"
      ]
     },
     "execution_count": 12,
     "metadata": {},
     "output_type": "execute_result"
    }
   ],
   "source": [
    "len(np.unique(df[0].loc[:,\"att2\"]))<len(df[0])*0.3"
   ]
  },
  {
   "cell_type": "code",
   "execution_count": 13,
   "id": "8701f85e",
   "metadata": {},
   "outputs": [
    {
     "data": {
      "text/plain": [
       "[    att1   att2    att3 att4 att5 att6 att7  att8 att9 att10  att11 att12  \\\n",
       " 0      1  30.83   0.000    1    0   12    7  1.25    1     1      1     0   \n",
       " 1      0  58.67   4.460    1    0   10    3  3.04    1     1      6     0   \n",
       " 2      0   24.5   0.500    1    0   10    3  1.50    1     0      0     0   \n",
       " 3      1  27.83   1.540    1    0   12    7  3.75    1     1      5     1   \n",
       " 4      1  20.17   5.625    1    0   12    7  1.71    1     0      0     0   \n",
       " ..   ...    ...     ...  ...  ...  ...  ...   ...  ...   ...    ...   ...   \n",
       " 648    1  21.08  10.085    2    2    4    3  1.25    0     0      0     0   \n",
       " 649    0  22.67   0.750    1    0    1    7  2.00    0     1      2     1   \n",
       " 650    0  25.25  13.500    2    2    5    2  2.00    0     1      1     1   \n",
       " 651    1  17.92   0.205    1    0    0    7  0.04    0     0      0     0   \n",
       " 652    1     35   3.375    1    0    1    3  8.29    0     0      0     1   \n",
       " \n",
       "     att13 att14  att15 label  \n",
       " 0       0    41      0     0  \n",
       " 1       0   113    560     0  \n",
       " 2       0    71    824     0  \n",
       " 3       0     1      3     0  \n",
       " 4       2     7      0     0  \n",
       " ..    ...   ...    ...   ...  \n",
       " 648     0    65      0     1  \n",
       " 649     0    39    394     1  \n",
       " 650     0    39      1     1  \n",
       " 651     0    71    750     1  \n",
       " 652     0     0      0     1  \n",
       " \n",
       " [653 rows x 16 columns],\n",
       "          3      4       5       6        7        8        9       10      11  \\\n",
       " 0    17.99  10.38  122.80  1001.0  0.11840  0.27760  0.30010  0.14710  0.2419   \n",
       " 1    20.57  17.77  132.90  1326.0  0.08474  0.07864  0.08690  0.07017  0.1812   \n",
       " 2    19.69  21.25  130.00  1203.0  0.10960  0.15990  0.19740  0.12790  0.2069   \n",
       " 3    11.42  20.38   77.58   386.1  0.14250  0.28390  0.24140  0.10520  0.2597   \n",
       " 4    20.29  14.34  135.10  1297.0  0.10030  0.13280  0.19800  0.10430  0.1809   \n",
       " ..     ...    ...     ...     ...      ...      ...      ...      ...     ...   \n",
       " 564  21.56  22.39  142.00  1479.0  0.11100  0.11590  0.24390  0.13890  0.1726   \n",
       " 565  20.13  28.25  131.20  1261.0  0.09780  0.10340  0.14400  0.09791  0.1752   \n",
       " 566  16.60  28.08  108.30   858.1  0.08455  0.10230  0.09251  0.05302  0.1590   \n",
       " 567  20.60  29.33  140.10  1265.0  0.11780  0.27700  0.35140  0.15200  0.2397   \n",
       " 568   7.76  24.54   47.92   181.0  0.05263  0.04362  0.00000  0.00000  0.1587   \n",
       " \n",
       "           12  ...     24      25      26       27       28      29      30  \\\n",
       " 0    0.07871  ...  17.33  184.60  2019.0  0.16220  0.66560  0.7119  0.2654   \n",
       " 1    0.05667  ...  23.41  158.80  1956.0  0.12380  0.18660  0.2416  0.1860   \n",
       " 2    0.05999  ...  25.53  152.50  1709.0  0.14440  0.42450  0.4504  0.2430   \n",
       " 3    0.09744  ...  26.50   98.87   567.7  0.20980  0.86630  0.6869  0.2575   \n",
       " 4    0.05883  ...  16.67  152.20  1575.0  0.13740  0.20500  0.4000  0.1625   \n",
       " ..       ...  ...    ...     ...     ...      ...      ...     ...     ...   \n",
       " 564  0.05623  ...  26.40  166.10  2027.0  0.14100  0.21130  0.4107  0.2216   \n",
       " 565  0.05533  ...  38.25  155.00  1731.0  0.11660  0.19220  0.3215  0.1628   \n",
       " 566  0.05648  ...  34.12  126.70  1124.0  0.11390  0.30940  0.3403  0.1418   \n",
       " 567  0.07016  ...  39.42  184.60  1821.0  0.16500  0.86810  0.9387  0.2650   \n",
       " 568  0.05884  ...  30.37   59.16   268.6  0.08996  0.06444  0.0000  0.0000   \n",
       " \n",
       "          31  Unnamed: 31  Diagnosis  \n",
       " 0    0.4601      0.11890          1  \n",
       " 1    0.2750      0.08902          1  \n",
       " 2    0.3613      0.08758          1  \n",
       " 3    0.6638      0.17300          1  \n",
       " 4    0.2364      0.07678          1  \n",
       " ..      ...          ...        ...  \n",
       " 564  0.2060      0.07115          1  \n",
       " 565  0.2572      0.06637          1  \n",
       " 566  0.2218      0.07820          1  \n",
       " 567  0.4087      0.12400          1  \n",
       " 568  0.2871      0.07039          0  \n",
       " \n",
       " [569 rows x 31 columns]]"
      ]
     },
     "execution_count": 13,
     "metadata": {},
     "output_type": "execute_result"
    }
   ],
   "source": [
    "#Remove unique column and apply label encoding\n",
    "for i in range(len(df)):\n",
    "    df[i] = removeUnique(df[i])\n",
    "    df[i] = labelEncoder(df[i])\n",
    "df"
   ]
  },
  {
   "cell_type": "code",
   "execution_count": 14,
   "id": "80a7a108",
   "metadata": {},
   "outputs": [
    {
     "name": "stdout",
     "output_type": "stream",
     "text": [
      "att1\n",
      "att2\n",
      "att4\n",
      "att5\n",
      "att6\n",
      "att7\n",
      "att9\n",
      "att10\n",
      "att11\n",
      "att12\n",
      "att13\n",
      "att14\n",
      "att15\n",
      "label\n",
      "att1     float64\n",
      "att2     float64\n",
      "att3     float64\n",
      "att4     float64\n",
      "att5     float64\n",
      "att6     float64\n",
      "att7     float64\n",
      "att8     float64\n",
      "att9     float64\n",
      "att10    float64\n",
      "att11    float64\n",
      "att12    float64\n",
      "att13    float64\n",
      "att14    float64\n",
      "att15    float64\n",
      "label    float64\n",
      "dtype: object\n",
      "Diagnosis\n",
      "3              float64\n",
      "4              float64\n",
      "5              float64\n",
      "6              float64\n",
      "7              float64\n",
      "8              float64\n",
      "9              float64\n",
      "10             float64\n",
      "11             float64\n",
      "12             float64\n",
      "13             float64\n",
      "14             float64\n",
      "15             float64\n",
      "16             float64\n",
      "17             float64\n",
      "18             float64\n",
      "19             float64\n",
      "20             float64\n",
      "21             float64\n",
      "22             float64\n",
      "23             float64\n",
      "24             float64\n",
      "25             float64\n",
      "26             float64\n",
      "27             float64\n",
      "28             float64\n",
      "29             float64\n",
      "30             float64\n",
      "31             float64\n",
      "Unnamed: 31    float64\n",
      "Diagnosis      float64\n",
      "dtype: object\n"
     ]
    }
   ],
   "source": [
    "#Cast column to floast\n",
    "for i in range(len(df)):\n",
    "    df[i] = castCol(df[i])\n",
    "    print(df[i].dtypes)"
   ]
  },
  {
   "cell_type": "code",
   "execution_count": 15,
   "id": "d09fa326",
   "metadata": {},
   "outputs": [],
   "source": [
    "# Change cTarget encoding to 1 and 1 instead of 1 and 0\n",
    "for i in range(len(df)):\n",
    "    for j in range(len(df[i])):\n",
    "        if df[i][cTarget[i]][j]==0:\n",
    "            df[i].loc[j,cTarget[i]]=-1"
   ]
  },
  {
   "cell_type": "code",
   "execution_count": 29,
   "id": "4a2a99a4",
   "metadata": {},
   "outputs": [],
   "source": [
    "# Create best_acc for comparisons afterward\n",
    "best_acc = dict()"
   ]
  },
  {
   "cell_type": "markdown",
   "id": "4486a7e4",
   "metadata": {},
   "source": [
    "# Q2 Implement Linear Classifier from scratch\n",
    "Pseudocode:  \n",
    "repeat until convergence (or for some # of iterations):  \n",
    "&emsp;randomize order or training examples  \n",
    "&emsp;for each training example $(f_1,f_2,....,f_n,label)$:  \n",
    "&emsp;&emsp;$prediction = b+ \\sum^n_{i=1}w_if_i$  \n",
    "&emsp;&emsp;if $prediction*label\\leq0$: //then don't agree  \n",
    "&emsp;&emsp;&emsp;for each $w_i$:  \n",
    "&emsp;&emsp;&emsp;&emsp;$w_i=w_i+lr*(f_i*label)$  \n",
    "&emsp;&emsp;&emsp;$b=b+label$  "
   ]
  },
  {
   "cell_type": "code",
   "execution_count": 16,
   "id": "8fe3f499",
   "metadata": {},
   "outputs": [],
   "source": [
    "#Randomize row data:\n",
    "def shuffle(df):\n",
    "    nShuffle = len(df)\n",
    "    for t in range(nShuffle):\n",
    "        ind1 = random.randint(0,len(df)-1)\n",
    "        ind2 = random.randint(0,len(df)-1)\n",
    "        a = df.iloc[ind1,:]\n",
    "        df.iloc[ind1,:] = df.iloc[ind2,:]\n",
    "        df.iloc[ind2,:] = a\n",
    "    return df"
   ]
  },
  {
   "cell_type": "code",
   "execution_count": 17,
   "id": "37a549fe",
   "metadata": {
    "scrolled": true
   },
   "outputs": [],
   "source": [
    "def linear_classification(df,w = [],b = None,it = 20,lr = 0.01,show = True):\n",
    "    MAX_ITER = it\n",
    "    i = 0 # Loop times\n",
    "    if b == None:\n",
    "        b = 0 \n",
    "    if len(w)==0:\n",
    "        w = np.random.rand(len(df.columns)-1) #Initialize w as random matrix\n",
    "    best_acc = 0\n",
    "    while i<MAX_ITER:\n",
    "        if show:\n",
    "            print(f\"Loop {i}\",end = \"\\r\")\n",
    "        i += 1 # Loop times increment\n",
    "        n = 0 # Negative case\n",
    "        df_temp = shuffle(df)\n",
    "        y = np.array(df_temp.iloc[:,-1])\n",
    "        x = df_temp.iloc[:,:-1]\n",
    "        for j in range(len(x)):\n",
    "            pred = np.sum(np.multiply(w,x.loc[j,:]))+b\n",
    "            if np.multiply(pred,y[j])<0:\n",
    "                n +=1\n",
    "                for k in range(len(w)):\n",
    "                    w[k] = w[k] + lr*x.iloc[j,k]*y[j]\n",
    "                b = b + y[j]\n",
    "        acc = (len(x)-n)/len(x)\n",
    "        if best_acc<acc:\n",
    "            best_w = w\n",
    "            best_b = b\n",
    "            best_acc = acc\n",
    "            best_correct = len(x)-n\n",
    "        if n==0:\n",
    "            break\n",
    "    if show:\n",
    "        print(f\"Final accuracy = {(len(x)-n)/len(x)}\")\n",
    "        print(f\"Best accuracy = {best_acc}\")\n",
    "        print(f\"Best w = {best_w}\")\n",
    "        print(f\"Best b = {best_b}\")\n",
    "    return best_acc,best_w,best_b,best_correct"
   ]
  },
  {
   "cell_type": "code",
   "execution_count": 18,
   "id": "f7ff1c1b",
   "metadata": {},
   "outputs": [
    {
     "name": "stdout",
     "output_type": "stream",
     "text": [
      "data/crx.csv\n",
      "Final accuracy = 0.6508422664624809\n",
      "Best accuracy = 0.664624808575804\n",
      "Best w = [  1.51909328   2.9441181   -9.27060723   6.64271214   7.30366098\n",
      "  -5.41134395   6.9882953  -32.58862301 -16.231892    -2.03237995\n",
      " -28.99214003  -1.00202073  -3.37305378  -0.39919776  -3.47900589]\n",
      "Best b = 158.0\n",
      "data/data.csv\n",
      "Final accuracy = 0.8629173989455184\n",
      "Best accuracy = 0.8769771528998243\n",
      "Best w = [-2.53643120e+01 -2.87486404e+01 -1.47281373e+02 -4.84624942e+01\n",
      " -3.07142584e-02  1.23948365e+00  7.29268798e-01  4.85316195e-01\n",
      "  1.44108528e-01 -8.72689663e-02  3.85119724e-01 -1.73039716e+00\n",
      "  2.91595202e+00  7.35351599e+01  3.51193295e-02  6.10198594e-01\n",
      "  7.61834724e-01  8.95754799e-01  3.77918063e-01  7.77525225e-01\n",
      " -2.73965801e+01 -3.27259103e+01 -1.43736599e+02  7.67152096e+01\n",
      "  3.63178346e-01  1.82372239e+00  2.17358835e+00  1.03286606e+00\n",
      " -1.36061965e-01  7.56753336e-02]\n",
      "Best b = -324.0\n"
     ]
    }
   ],
   "source": [
    "q2_best_acc = np.zeros((len(df)))\n",
    "for i in range(len(df)):\n",
    "    print(p_data[i])\n",
    "    q2_best_acc[i],_,_,_ = linear_classification(df[i])"
   ]
  },
  {
   "cell_type": "code",
   "execution_count": 30,
   "id": "6d617ba2",
   "metadata": {},
   "outputs": [],
   "source": [
    "best_acc[\"Linear Classifier\"] = q2_best_acc"
   ]
  },
  {
   "cell_type": "markdown",
   "id": "df039ae4",
   "metadata": {},
   "source": [
    "# Q3\n",
    "When the $J=WX+b$ could be represented as the matrix form for the linear classifier, please find the solution by solving this equation using least-squared manner. Also, please implement it and make a comparison between this method and the previous one implemented in 2.\n",
    "\n",
    "To-do: Solve the partial derivative of W to find the solution of W  \n",
    "$\\hat{w} = (X^TX)^{-1}X^TY$"
   ]
  },
  {
   "cell_type": "code",
   "execution_count": 64,
   "id": "785486ac",
   "metadata": {},
   "outputs": [],
   "source": [
    "def least_square_manner(df):\n",
    "    X = np.array(df.iloc[:,:-1])\n",
    "    b = np.ones((np.array(df.iloc[:,:-1]).shape[0],1))\n",
    "    X = np.hstack((X,b))\n",
    "    Y = np.array(df.iloc[:,-1])\n",
    "    w = np.matmul(np.matmul(np.matmul(np.transpose(X),X)**(-1),np.transpose(X)),Y)\n",
    "    y = np.matmul(X,w)\n",
    "    (unique, counts) = np.unique((Y*y)>0, return_counts=True)\n",
    "    for i in range(len(unique)):\n",
    "        if unique[i]==1:\n",
    "            print(unique[i])\n",
    "            acc = counts[i]/len(y)\n",
    "    print(f\"accuracy = {acc}\")\n",
    "    print(f\"w = {w}\")\n",
    "    return acc,w"
   ]
  },
  {
   "cell_type": "code",
   "execution_count": 54,
   "id": "8c868b78",
   "metadata": {},
   "outputs": [
    {
     "data": {
      "text/plain": [
       "(653, 15)"
      ]
     },
     "execution_count": 54,
     "metadata": {},
     "output_type": "execute_result"
    }
   ],
   "source": [
    "np.array(df[0].iloc[:,:-1]).shape"
   ]
  },
  {
   "cell_type": "code",
   "execution_count": 59,
   "id": "95f577f1",
   "metadata": {},
   "outputs": [
    {
     "data": {
      "text/plain": [
       "(653, 16)"
      ]
     },
     "execution_count": 59,
     "metadata": {},
     "output_type": "execute_result"
    }
   ],
   "source": [
    "np.hstack((np.array(df[0].iloc[:,:-1]),np.ones((np.array(df[0].iloc[:,:-1]).shape[0],1)))).shape"
   ]
  },
  {
   "cell_type": "code",
   "execution_count": 65,
   "id": "3acd664c",
   "metadata": {},
   "outputs": [
    {
     "name": "stdout",
     "output_type": "stream",
     "text": [
      "data/crx.csv\n",
      "True\n",
      "accuracy = 0.3445635528330781\n",
      "w = [-2.58603532e+00 -4.22370786e-02 -8.49387292e-02 -1.75100240e+00\n",
      " -6.82996238e+00 -2.69705042e-01 -3.57808998e-01 -1.59870649e-01\n",
      " -4.58737189e-01  6.09871968e+00  1.34667770e+00 -3.18712452e+00\n",
      " -6.22334472e+01 -2.91979764e-02 -1.11890306e-06 -1.65301247e+00]\n",
      "data/data.csv\n",
      "True\n",
      "accuracy = 0.6274165202108963\n",
      "w = [-8.53593350e-02 -5.29199365e-02 -1.32748592e-02 -2.17820153e-03\n",
      " -1.04437417e+01 -1.20093694e+01 -1.66420331e+01 -3.06971331e+01\n",
      " -5.50424199e+00 -1.48971775e+01 -3.43351871e+00 -7.07738848e-01\n",
      " -4.89006555e-01 -3.96251053e-02 -1.19894313e+02 -4.48737327e+01\n",
      " -3.77604786e+01 -9.96359348e+01 -4.37246903e+01 -2.57022456e+02\n",
      " -7.69939089e-02 -3.99263299e-02 -1.18254757e-02 -1.70165792e-03\n",
      " -7.61708921e+00 -5.01116010e+00 -5.11742012e+00 -1.21447195e+01\n",
      " -3.50078614e+00 -1.18999834e+01 -9.52389385e-01]\n"
     ]
    }
   ],
   "source": [
    "q3_best_acc = np.zeros((len(df)))\n",
    "for i in range(len(df)):\n",
    "    print(p_data[i])\n",
    "    q3_best_acc[i],_ = least_square_manner(df[i])"
   ]
  },
  {
   "cell_type": "code",
   "execution_count": 21,
   "id": "be531fb3",
   "metadata": {},
   "outputs": [
    {
     "data": {
      "text/plain": [
       "array([0.31699847, 0.24956063])"
      ]
     },
     "execution_count": 21,
     "metadata": {},
     "output_type": "execute_result"
    }
   ],
   "source": [
    "# Comparison\n",
    "np.array(q2_best_acc-q3_best_acc)"
   ]
  },
  {
   "cell_type": "code",
   "execution_count": 31,
   "id": "250db47a",
   "metadata": {},
   "outputs": [],
   "source": [
    "best_acc[\"Least-Square\"] = q3_best_acc"
   ]
  },
  {
   "cell_type": "markdown",
   "id": "9b407d4b",
   "metadata": {},
   "source": [
    "# Q4\n",
    "Please implement the voted perception and make the performance comparison between methods.\n",
    "\n",
    "* Training  \n",
    "    * every time a mistake is made on an example:  \n",
    "        * store the weights (i.e. before changing for current example)  \n",
    "        * store the number of examples that set of weights got correct  \n",
    "\n",
    "* Classify  \n",
    "    * calculate the prediction from ALL saved weights  \n",
    "    * multiply each prediction by the number it got correct (i.e a weighted vote) and take the sum over all predictions\n",
    "    * said another way: pick whichever prediction has the most votes\n"
   ]
  },
  {
   "cell_type": "code",
   "execution_count": 46,
   "id": "fe02be4b",
   "metadata": {},
   "outputs": [],
   "source": [
    "# Training\n",
    "class Voted_perception:\n",
    "    def __init__(self,_w_set=[],_b_set = [],_c_set = []):\n",
    "        self.w_set = _w_set #collection of w\n",
    "        self.b_set = _b_set #collection of b\n",
    "        self.c_set = _c_set #collection of number of correct\n",
    "        \n",
    "    def train(self,df,it = 20):\n",
    "        #Training\n",
    "        _,w_last,b_last,c_last = linear_classification(df,it = 1,show = False)\n",
    "        self.w_set.append(w_last)\n",
    "        self.b_set.append(b_last)\n",
    "        self.c_set.append(c_last)\n",
    "        for i in range(it-1):\n",
    "            _,w_last,b_last,c_last = linear_classification(df,w = w_last,b = b_last ,it = 1,show = False)\n",
    "            if len(np.unique(self.w_set[-1]-w_last==0)) == 1 and self.b_set[-1]==b_last: #Totally same\n",
    "                break\n",
    "            else:\n",
    "                self.w_set.append(w_last)\n",
    "                self.b_set.append(b_last)\n",
    "                self.c_set.append(c_last)\n",
    "                \n",
    "    def test(self,df):\n",
    "        X = np.array(df.iloc[:,:-1])\n",
    "        Y = np.array(df.iloc[:,-1])\n",
    "        Pred = []\n",
    "        for i in range(len(self.w_set)):\n",
    "            Pred.append(np.sum(np.multiply(np.array(self.w_set[i]),X),axis=1)+self.b_set[i])\n",
    "\n",
    "        pred = self.c_set[0]*Pred[0]/(len(Y)*len(Pred))\n",
    "        for p in range(1,len(Pred)):\n",
    "            pred += self.c_set[p]*Pred[p]/(len(Y)*len(Pred))\n",
    "        (unique, counts) = np.unique((pred*Y)>0, return_counts=True) #Larger than zero, counting true\n",
    "\n",
    "        for i in range(len(unique)):\n",
    "            if unique[i]==1:\n",
    "                acc = counts[i]/len(Y)\n",
    "        print(f\"accuracy = {acc}\")\n",
    "        return acc\n",
    "    \n",
    "    def initialize(self):\n",
    "        self.w_set = [] #collection of w\n",
    "        self.b_set = [] #collection of b\n",
    "        self.c_set = [] #collection of number of correct"
   ]
  },
  {
   "cell_type": "code",
   "execution_count": 39,
   "id": "b5b9da5b",
   "metadata": {},
   "outputs": [
    {
     "name": "stdout",
     "output_type": "stream",
     "text": [
      "accuracy = 0.6370597243491577\n"
     ]
    }
   ],
   "source": [
    "# Classify\n",
    "X = np.array(df[0].iloc[:,:-1])\n",
    "Y = np.array(df[0].iloc[:,-1])\n",
    "Pred = []\n",
    "trim = 0.9\n",
    "for i in range(int(len(w_set)*trim),len(w_set)):\n",
    "    Pred.append(np.sum(np.multiply(np.array(w_set[i]),X),axis=1)+b_set[i])\n",
    "\n",
    "pred = c_set[0]*Pred[0]/(len(Y)*len(Pred))\n",
    "for p in range(1,len(Pred)):\n",
    "    pred += c_set[p]*Pred[p]/(len(Y)*len(Pred))\n",
    "(unique, counts) = np.unique((pred*Y)>0, return_counts=True) #Larger than zero, counting true\n",
    "\n",
    "for i in range(len(unique)):\n",
    "    if unique[i]==1:\n",
    "        acc = counts[i]/len(Y)\n",
    "print(f\"accuracy = {acc}\")"
   ]
  },
  {
   "cell_type": "code",
   "execution_count": 45,
   "id": "2bd4d1e1",
   "metadata": {},
   "outputs": [
    {
     "ename": "IndexError",
     "evalue": "list index out of range",
     "output_type": "error",
     "traceback": [
      "\u001b[1;31m---------------------------------------------------------------------------\u001b[0m",
      "\u001b[1;31mIndexError\u001b[0m                                Traceback (most recent call last)",
      "\u001b[1;32m~\\AppData\\Local\\Temp/ipykernel_16728/3116546060.py\u001b[0m in \u001b[0;36m<module>\u001b[1;34m\u001b[0m\n\u001b[0;32m      1\u001b[0m \u001b[0mvp\u001b[0m \u001b[1;33m=\u001b[0m \u001b[0mVoted_perception\u001b[0m\u001b[1;33m(\u001b[0m\u001b[1;33m)\u001b[0m\u001b[1;33m\u001b[0m\u001b[1;33m\u001b[0m\u001b[0m\n\u001b[0;32m      2\u001b[0m \u001b[0mvp\u001b[0m\u001b[1;33m.\u001b[0m\u001b[0mtrain\u001b[0m\u001b[1;33m(\u001b[0m\u001b[0mdf\u001b[0m\u001b[1;33m[\u001b[0m\u001b[1;36m0\u001b[0m\u001b[1;33m]\u001b[0m\u001b[1;33m)\u001b[0m\u001b[1;33m\u001b[0m\u001b[1;33m\u001b[0m\u001b[0m\n\u001b[1;32m----> 3\u001b[1;33m \u001b[0mvp\u001b[0m\u001b[1;33m.\u001b[0m\u001b[0mtest\u001b[0m\u001b[1;33m(\u001b[0m\u001b[0mdf\u001b[0m\u001b[1;33m[\u001b[0m\u001b[1;36m0\u001b[0m\u001b[1;33m]\u001b[0m\u001b[1;33m)\u001b[0m\u001b[1;33m\u001b[0m\u001b[1;33m\u001b[0m\u001b[0m\n\u001b[0m",
      "\u001b[1;32m~\\AppData\\Local\\Temp/ipykernel_16728/4205509918.py\u001b[0m in \u001b[0;36mtest\u001b[1;34m(self, df)\u001b[0m\n\u001b[0;32m     26\u001b[0m         \u001b[0mPred\u001b[0m \u001b[1;33m=\u001b[0m \u001b[1;33m[\u001b[0m\u001b[1;33m]\u001b[0m\u001b[1;33m\u001b[0m\u001b[1;33m\u001b[0m\u001b[0m\n\u001b[0;32m     27\u001b[0m         \u001b[1;32mfor\u001b[0m \u001b[0mi\u001b[0m \u001b[1;32min\u001b[0m \u001b[0mrange\u001b[0m\u001b[1;33m(\u001b[0m\u001b[0mlen\u001b[0m\u001b[1;33m(\u001b[0m\u001b[0mw_set\u001b[0m\u001b[1;33m)\u001b[0m\u001b[1;33m)\u001b[0m\u001b[1;33m:\u001b[0m\u001b[1;33m\u001b[0m\u001b[1;33m\u001b[0m\u001b[0m\n\u001b[1;32m---> 28\u001b[1;33m             \u001b[0mPred\u001b[0m\u001b[1;33m.\u001b[0m\u001b[0mappend\u001b[0m\u001b[1;33m(\u001b[0m\u001b[0mnp\u001b[0m\u001b[1;33m.\u001b[0m\u001b[0msum\u001b[0m\u001b[1;33m(\u001b[0m\u001b[0mnp\u001b[0m\u001b[1;33m.\u001b[0m\u001b[0mmultiply\u001b[0m\u001b[1;33m(\u001b[0m\u001b[0mnp\u001b[0m\u001b[1;33m.\u001b[0m\u001b[0marray\u001b[0m\u001b[1;33m(\u001b[0m\u001b[0mself\u001b[0m\u001b[1;33m.\u001b[0m\u001b[0mw_set\u001b[0m\u001b[1;33m[\u001b[0m\u001b[0mi\u001b[0m\u001b[1;33m]\u001b[0m\u001b[1;33m)\u001b[0m\u001b[1;33m,\u001b[0m\u001b[0mX\u001b[0m\u001b[1;33m)\u001b[0m\u001b[1;33m,\u001b[0m\u001b[0maxis\u001b[0m\u001b[1;33m=\u001b[0m\u001b[1;36m1\u001b[0m\u001b[1;33m)\u001b[0m\u001b[1;33m+\u001b[0m\u001b[0mself\u001b[0m\u001b[1;33m.\u001b[0m\u001b[0mb_set\u001b[0m\u001b[1;33m[\u001b[0m\u001b[0mi\u001b[0m\u001b[1;33m]\u001b[0m\u001b[1;33m)\u001b[0m\u001b[1;33m\u001b[0m\u001b[1;33m\u001b[0m\u001b[0m\n\u001b[0m\u001b[0;32m     29\u001b[0m \u001b[1;33m\u001b[0m\u001b[0m\n\u001b[0;32m     30\u001b[0m         \u001b[0mpred\u001b[0m \u001b[1;33m=\u001b[0m \u001b[0mself\u001b[0m\u001b[1;33m.\u001b[0m\u001b[0mc_set\u001b[0m\u001b[1;33m[\u001b[0m\u001b[1;36m0\u001b[0m\u001b[1;33m]\u001b[0m\u001b[1;33m*\u001b[0m\u001b[0mPred\u001b[0m\u001b[1;33m[\u001b[0m\u001b[1;36m0\u001b[0m\u001b[1;33m]\u001b[0m\u001b[1;33m/\u001b[0m\u001b[1;33m(\u001b[0m\u001b[0mlen\u001b[0m\u001b[1;33m(\u001b[0m\u001b[0mY\u001b[0m\u001b[1;33m)\u001b[0m\u001b[1;33m*\u001b[0m\u001b[0mlen\u001b[0m\u001b[1;33m(\u001b[0m\u001b[0mPred\u001b[0m\u001b[1;33m)\u001b[0m\u001b[1;33m)\u001b[0m\u001b[1;33m\u001b[0m\u001b[1;33m\u001b[0m\u001b[0m\n",
      "\u001b[1;31mIndexError\u001b[0m: list index out of range"
     ]
    }
   ],
   "source": [
    "vp = Voted_perception()\n",
    "vp.train(df[0])\n",
    "vp.test(df[0])"
   ]
  },
  {
   "cell_type": "code",
   "execution_count": 47,
   "id": "40dfcd4f",
   "metadata": {},
   "outputs": [
    {
     "name": "stdout",
     "output_type": "stream",
     "text": [
      "accuracy = 0.6845329249617151\n",
      "accuracy = 0.9191564147627417\n"
     ]
    }
   ],
   "source": [
    "q4_best_acc = []\n",
    "vp = Voted_perception()\n",
    "for i in range(len(df)):\n",
    "    vp.initialize()\n",
    "    vp.train(df[i])\n",
    "    q4_best_acc.append(vp.test(df[i]))\n",
    "best_acc[\"Voted Perception\"] = q4_best_acc"
   ]
  },
  {
   "cell_type": "code",
   "execution_count": 49,
   "id": "bf9908ff",
   "metadata": {},
   "outputs": [
    {
     "data": {
      "text/html": [
       "<div>\n",
       "<style scoped>\n",
       "    .dataframe tbody tr th:only-of-type {\n",
       "        vertical-align: middle;\n",
       "    }\n",
       "\n",
       "    .dataframe tbody tr th {\n",
       "        vertical-align: top;\n",
       "    }\n",
       "\n",
       "    .dataframe thead th {\n",
       "        text-align: right;\n",
       "    }\n",
       "</style>\n",
       "<table border=\"1\" class=\"dataframe\">\n",
       "  <thead>\n",
       "    <tr style=\"text-align: right;\">\n",
       "      <th></th>\n",
       "      <th>Linear Classifier</th>\n",
       "      <th>Least-Square</th>\n",
       "      <th>Voted Perception</th>\n",
       "    </tr>\n",
       "  </thead>\n",
       "  <tbody>\n",
       "    <tr>\n",
       "      <th>0</th>\n",
       "      <td>0.664625</td>\n",
       "      <td>0.347626</td>\n",
       "      <td>0.684533</td>\n",
       "    </tr>\n",
       "    <tr>\n",
       "      <th>1</th>\n",
       "      <td>0.876977</td>\n",
       "      <td>0.627417</td>\n",
       "      <td>0.919156</td>\n",
       "    </tr>\n",
       "  </tbody>\n",
       "</table>\n",
       "</div>"
      ],
      "text/plain": [
       "   Linear Classifier  Least-Square  Voted Perception\n",
       "0           0.664625      0.347626          0.684533\n",
       "1           0.876977      0.627417          0.919156"
      ]
     },
     "execution_count": 49,
     "metadata": {},
     "output_type": "execute_result"
    }
   ],
   "source": [
    "acc_all = pd.DataFrame(best_acc)\n",
    "acc_all"
   ]
  },
  {
   "cell_type": "markdown",
   "id": "dee3f90f",
   "metadata": {},
   "source": [
    "# Q5\n",
    "With minimizing the ||w||^2, it should drive the marginal to be maximized as well. Please implement the linear classifier with the minimum ||w||^2 property and verify whether the margin of this version is larger than that of the conventional linear classifier or not. \n",
    "\n"
   ]
  },
  {
   "cell_type": "code",
   "execution_count": null,
   "id": "0cc7c716",
   "metadata": {},
   "outputs": [],
   "source": []
  }
 ],
 "metadata": {
  "kernelspec": {
   "display_name": "Python 3 (ipykernel)",
   "language": "python",
   "name": "python3"
  },
  "language_info": {
   "codemirror_mode": {
    "name": "ipython",
    "version": 3
   },
   "file_extension": ".py",
   "mimetype": "text/x-python",
   "name": "python",
   "nbconvert_exporter": "python",
   "pygments_lexer": "ipython3",
   "version": "3.8.5"
  }
 },
 "nbformat": 4,
 "nbformat_minor": 5
}
